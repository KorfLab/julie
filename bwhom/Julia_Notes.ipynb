{
 "cells": [
  {
   "cell_type": "markdown",
   "metadata": {},
   "source": [
    "# <font color='pink'>  Basic variable and data types</font>\n",
    "<br>\n",
    "\n",
    "* Note the *64* just means 64 bit\n",
    "* print vs println(). println() just prints a new line so your output is not on just one line\n"
   ]
  },
  {
   "cell_type": "code",
   "execution_count": null,
   "metadata": {
    "scrolled": false
   },
   "outputs": [],
   "source": [
    "random_string=\"get me out\"\n",
    "random_integer=2000\n",
    "random_float=2.000\n",
    "println(\"random_string is of type : String\")\n",
    "println(\"random_integer is of typer: int64\")\n",
    "println(\"random_float is of type: float64\")\n",
    "\n"
   ]
  },
  {
   "cell_type": "markdown",
   "metadata": {},
   "source": [
    "# <font color='pink'> Logical operators and boolean operations </font>\n",
    "  \n",
    "  <br>\n",
    " \n",
    " - The <font color='orange'>*&&*</font> and <font color='orange'>*||*</font> are for short circuit evaluation, meaning that the expression x && y will be <br> further evaluated if x is true.\n",
    "\n",
    "<br>\n",
    "\n",
    "|Logical Operator| Symbol |\n",
    "|--------|----------------|\n",
    "|not     |   !    |\n",
    "|or      |   double vertical bars |\n",
    "|and     |     &&   |\n",
    "\n",
    "\n"
   ]
  },
  {
   "cell_type": "code",
   "execution_count": null,
   "metadata": {
    "scrolled": true
   },
   "outputs": [],
   "source": [
    "x=true;\n",
    "y=false;\n",
    "println(\"X && Y is $(x&&y)\")\n",
    "println(\"X || Y is $(x | y)\")\n",
    "println(\"!x is $(!x)\")\n"
   ]
  },
  {
   "cell_type": "markdown",
   "metadata": {},
   "source": [
    "# <font color='pink'>Control flow/structure </font>\n"
   ]
  },
  {
   "cell_type": "markdown",
   "metadata": {},
   "source": [
    "<br>\n",
    "In Julia, all control blocks must end with an <font color='orange'>end</font>\n",
    "\n",
    "<br>"
   ]
  },
  {
   "cell_type": "markdown",
   "metadata": {},
   "source": [
    "## <font color='orange'>If <br> elif <br> else </font>"
   ]
  },
  {
   "cell_type": "code",
   "execution_count": null,
   "metadata": {
    "scrolled": true
   },
   "outputs": [],
   "source": [
    "quarter_was_great=false;\n",
    "utterly_baffled=true;\n",
    "\n",
    "if quarter_was_great && utterly_baffled\n",
    "    println(\"🤔🤔🤔🤔🤔🤔🤔🤔🤔🤔🤔🤔🤔🤔🤔🤔🤔🤔🤔🤔🤔\")\n",
    "elseif !utterly_baffled\n",
    "    println(\"😕😕😕😕😕😕😕😕😕😕\")\n",
    "else \n",
    "    println(\"    🐤🐤🐤🐤🐤🐤\")\n",
    "    println(\"   🐤🐤🐤🐤🐤🐤🐤\")\n",
    "    println(\"  🐤🐤🐤🐤🐤🐤🐤🐤 \")\n",
    "\n",
    "end #notice the end here \n",
    "\n",
    "#another control block\n",
    "if utterly_baffled\n",
    "    print(\"👀👀👀👀👀👀👀👀👀👀👀👀👀👀👀👀\")\n",
    "end\n",
    "\n"
   ]
  },
  {
   "cell_type": "markdown",
   "metadata": {},
   "source": [
    "##  <font color='orange'>Iteration (WHILE and FOR loops)</font>\n"
   ]
  },
  {
   "cell_type": "code",
   "execution_count": null,
   "metadata": {},
   "outputs": [],
   "source": [
    "i=0\n",
    "while i<=9 \n",
    "    println(i+1)\n",
    "    i+=1\n",
    "end\n"
   ]
  },
  {
   "cell_type": "markdown",
   "metadata": {},
   "source": [
    "<br>\n",
    "\n",
    "* Similar to python, we can iterate through an array with the <font color='orange'>range</font> function. You must specify the <font color='orange'>step</font> keyword argument here. \n",
    "\n",
    "<br>\n",
    "\n",
    "* Note julia is one-based indexing"
   ]
  },
  {
   "cell_type": "code",
   "execution_count": 118,
   "metadata": {
    "scrolled": true
   },
   "outputs": [
    {
     "name": "stdout",
     "output_type": "stream",
     "text": [
      "Index 1 is hello\n",
      "Index 2 is goodbye\n",
      "Index 3 is No\n",
      "Index 4 is Yes\n",
      "Index 5 is Hi\n"
     ]
    }
   ],
   "source": [
    "random_list=[\"hello\",\"goodbye\",\"No\",\"Yes\", \"Hi\"];\n",
    "\n",
    "for i in range(1,length(random_list),step=1)\n",
    "    println(\"Index $i is $(random_list[i])\")\n",
    "end"
   ]
  },
  {
   "cell_type": "markdown",
   "metadata": {},
   "source": [
    "Although iteration via range is probably the most common way, I find <font color='orange'>enumerate </font> to be better. "
   ]
  },
  {
   "cell_type": "code",
   "execution_count": null,
   "metadata": {},
   "outputs": [],
   "source": [
    "\n",
    "\n",
    "for (i,j) in enumerate(random_list) \n",
    "    println(\"Index $i is $j\")\n",
    "    \n",
    "end\n"
   ]
  },
  {
   "cell_type": "markdown",
   "metadata": {},
   "source": [
    "Iteration with just the in. "
   ]
  },
  {
   "cell_type": "code",
   "execution_count": null,
   "metadata": {},
   "outputs": [],
   "source": [
    "for x in random_list\n",
    "    println(x)\n",
    "end\n"
   ]
  },
  {
   "cell_type": "markdown",
   "metadata": {},
   "source": [
    "# <font color='pink'>Basic data structures</font>\n"
   ]
  },
  {
   "cell_type": "markdown",
   "metadata": {},
   "source": [
    "## <font color='orange'> Arrays </font>\n",
    "* arrays in Julia are similar to python's, except they are one based indexing. \n",
    "<br>\n",
    "\n",
    "* when calling a function to modify, notice that a <font color='orange'> ! </font> is needed for the function to actually modify its arguments. "
   ]
  },
  {
   "cell_type": "code",
   "execution_count": null,
   "metadata": {},
   "outputs": [],
   "source": [
    "random_list_2=[1,2,3,4]\n",
    "#notice the ! here\n",
    "append!(random_list_2,5)\n"
   ]
  },
  {
   "cell_type": "markdown",
   "metadata": {},
   "source": [
    "## <font color='orange'> Tuples </font>\n",
    "* Tuples pretty much the same as python\n",
    "* cannot modify a tuple\n"
   ]
  },
  {
   "cell_type": "code",
   "execution_count": null,
   "metadata": {},
   "outputs": [],
   "source": [
    "random_tuple=(1,2,3)\n"
   ]
  },
  {
   "cell_type": "code",
   "execution_count": null,
   "metadata": {},
   "outputs": [],
   "source": [
    "random_tuple[1]=2"
   ]
  },
  {
   "cell_type": "markdown",
   "metadata": {},
   "source": [
    "# <font color='pink'>Dictionaries </font>\n",
    "* Dictionaries in Julia"
   ]
  },
  {
   "cell_type": "code",
   "execution_count": null,
   "metadata": {},
   "outputs": [],
   "source": [
    "random_dictionary=Dict(\"Scotland\" => \"Unicorn\",\"USA\"=>\"Bald Eagle\",1 =>2)\n"
   ]
  },
  {
   "cell_type": "code",
   "execution_count": 116,
   "metadata": {},
   "outputs": [
    {
     "name": "stdout",
     "output_type": "stream",
     "text": [
      "key is USA     Value is Bald Eagle\n",
      "key is Scotland     Value is Unicorn\n",
      "key is 1     Value is 2\n"
     ]
    }
   ],
   "source": [
    "for (i,j) in random_dictionary \n",
    "    println(\"key is $i     Value is $j\")\n",
    "end"
   ]
  },
  {
   "cell_type": "markdown",
   "metadata": {},
   "source": [
    "# <font color='pink'>Functions </font>\n",
    "\n",
    "* Interestingly in julia, <font color='orange'> return </font> is not necessary but is a matter of readability."
   ]
  },
  {
   "cell_type": "code",
   "execution_count": 119,
   "metadata": {},
   "outputs": [
    {
     "data": {
      "text/plain": [
       "3.0"
      ]
     },
     "execution_count": 119,
     "metadata": {},
     "output_type": "execute_result"
    }
   ],
   "source": [
    "function square_root(x)\n",
    "     sqrt(x)\n",
    "end \n",
    "square_root(9)"
   ]
  },
  {
   "cell_type": "markdown",
   "metadata": {},
   "source": [
    "* You may have one line functions that simulate functions in math. "
   ]
  },
  {
   "cell_type": "code",
   "execution_count": 120,
   "metadata": {},
   "outputs": [
    {
     "data": {
      "text/plain": [
       "square (generic function with 1 method)"
      ]
     },
     "execution_count": 120,
     "metadata": {},
     "output_type": "execute_result"
    }
   ],
   "source": [
    "square(x)=x^2"
   ]
  },
  {
   "cell_type": "markdown",
   "metadata": {},
   "source": [
    "* Just as before, if a function were to mutate its arguments, a <font color='orange'> ! </font> is needed."
   ]
  },
  {
   "cell_type": "code",
   "execution_count": 125,
   "metadata": {},
   "outputs": [
    {
     "data": {
      "text/plain": [
       "8-element Vector{Int64}:\n",
       "  3\n",
       "  4\n",
       "  4\n",
       "  5\n",
       "  5\n",
       "  7\n",
       " 12\n",
       " 34"
      ]
     },
     "execution_count": 125,
     "metadata": {},
     "output_type": "execute_result"
    }
   ],
   "source": [
    "lame_list=[5,4,3,5,7,34,12,4]\n",
    "sort(lame_list)\n"
   ]
  },
  {
   "cell_type": "code",
   "execution_count": 126,
   "metadata": {},
   "outputs": [
    {
     "data": {
      "text/plain": [
       "8-element Vector{Int64}:\n",
       "  5\n",
       "  4\n",
       "  3\n",
       "  5\n",
       "  7\n",
       " 34\n",
       " 12\n",
       "  4"
      ]
     },
     "execution_count": 126,
     "metadata": {},
     "output_type": "execute_result"
    }
   ],
   "source": [
    "lame_list"
   ]
  },
  {
   "cell_type": "code",
   "execution_count": 127,
   "metadata": {},
   "outputs": [
    {
     "data": {
      "text/plain": [
       "8-element Vector{Int64}:\n",
       "  3\n",
       "  4\n",
       "  4\n",
       "  5\n",
       "  5\n",
       "  7\n",
       " 12\n",
       " 34"
      ]
     },
     "execution_count": 127,
     "metadata": {},
     "output_type": "execute_result"
    }
   ],
   "source": [
    "sort!(lame_list)\n",
    "lame_list"
   ]
  },
  {
   "cell_type": "code",
   "execution_count": 128,
   "metadata": {},
   "outputs": [
    {
     "data": {
      "text/plain": [
       "\"hello\""
      ]
     },
     "execution_count": 128,
     "metadata": {},
     "output_type": "execute_result"
    }
   ],
   "source": []
  },
  {
   "cell_type": "code",
   "execution_count": 129,
   "metadata": {},
   "outputs": [
    {
     "data": {
      "text/plain": [
       "'h': ASCII/Unicode U+0068 (category Ll: Letter, lowercase)"
      ]
     },
     "execution_count": 129,
     "metadata": {},
     "output_type": "execute_result"
    }
   ],
   "source": [
    "x[1\n",
    "]"
   ]
  },
  {
   "cell_type": "code",
   "execution_count": 130,
   "metadata": {},
   "outputs": [
    {
     "ename": "LoadError",
     "evalue": "MethodError: no method matching setindex!(::String, ::String, ::Int64)",
     "output_type": "error",
     "traceback": [
      "MethodError: no method matching setindex!(::String, ::String, ::Int64)",
      "",
      "Stacktrace:",
      " [1] top-level scope",
      "   @ In[130]:1",
      " [2] eval",
      "   @ ./boot.jl:360 [inlined]",
      " [3] include_string(mapexpr::typeof(REPL.softscope), mod::Module, code::String, filename::String)",
      "   @ Base ./loading.jl:1094"
     ]
    }
   ],
   "source": [
    "\n"
   ]
  },
  {
   "cell_type": "code",
   "execution_count": null,
   "metadata": {},
   "outputs": [],
   "source": []
  }
 ],
 "metadata": {
  "kernelspec": {
   "display_name": "Julia 1.6.1",
   "language": "julia",
   "name": "julia-1.6"
  },
  "language_info": {
   "file_extension": ".jl",
   "mimetype": "application/julia",
   "name": "julia",
   "version": "1.6.1"
  }
 },
 "nbformat": 4,
 "nbformat_minor": 4
}
